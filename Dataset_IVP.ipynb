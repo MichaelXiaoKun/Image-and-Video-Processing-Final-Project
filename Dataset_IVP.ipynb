{
 "cells": [
  {
   "cell_type": "code",
   "execution_count": 1,
   "metadata": {},
   "outputs": [
    {
     "name": "stdout",
     "output_type": "stream",
     "text": [
      "Defaulting to user installation because normal site-packages is not writeable\n",
      "Requirement already satisfied: sklearn in /home/kx2090/.local/lib/python3.8/site-packages (0.0)\n",
      "Requirement already satisfied: scikit-learn in /home/kx2090/.local/lib/python3.8/site-packages (from sklearn) (1.0.2)\n",
      "Requirement already satisfied: threadpoolctl>=2.0.0 in /home/kx2090/.local/lib/python3.8/site-packages (from scikit-learn->sklearn) (3.1.0)\n",
      "Requirement already satisfied: numpy>=1.14.6 in /share/apps/python/3.8.6/intel/lib/python3.8/site-packages/numpy-1.19.2-py3.8-linux-x86_64.egg (from scikit-learn->sklearn) (1.19.2)\n",
      "Requirement already satisfied: scipy>=1.1.0 in /share/apps/python/3.8.6/intel/lib/python3.8/site-packages/scipy-1.5.2-py3.8-linux-x86_64.egg (from scikit-learn->sklearn) (1.5.2)\n",
      "Requirement already satisfied: joblib>=0.11 in /home/kx2090/.local/lib/python3.8/site-packages (from scikit-learn->sklearn) (1.1.0)\n",
      "\u001b[33mWARNING: You are using pip version 20.2.3; however, version 22.1 is available.\n",
      "You should consider upgrading via the '/share/apps/python/3.8.6/intel/bin/python -m pip install --upgrade pip' command.\u001b[0m\n",
      "Defaulting to user installation because normal site-packages is not writeable\n",
      "Requirement already satisfied: typing_extensions in /home/kx2090/.local/lib/python3.8/site-packages (4.2.0)\n",
      "\u001b[33mWARNING: You are using pip version 20.2.3; however, version 22.1 is available.\n",
      "You should consider upgrading via the '/share/apps/python/3.8.6/intel/bin/python -m pip install --upgrade pip' command.\u001b[0m\n"
     ]
    }
   ],
   "source": [
    "!pip install sklearn\n",
    "!pip install typing_extensions\n",
    "import os\n",
    "import numpy as np\n",
    "import pandas as pd\n",
    "import sys\n",
    "import matplotlib.pyplot as plt\n",
    "from PIL import Image\n",
    "import json\n",
    "import random\n",
    "from sklearn.model_selection import KFold\n",
    "from sklearn.feature_extraction import image\n",
    "from pathlib import Path\n",
    "import torch\n",
    "from torch.utils.data import Dataset\n",
    "from torchvision import transforms\n",
    "import pickle\n",
    "import cv2\n",
    "from fnmatch import fnmatch\n",
    "from torch.utils.data import Dataset, ConcatDataset"
   ]
  },
  {
   "cell_type": "code",
   "execution_count": 2,
   "metadata": {},
   "outputs": [],
   "source": [
    "from torchvision import transforms\n",
    "#180 x 180 comes from the paper\n",
    "#there is something mentioned about\n",
    "transform_OG=transforms.Compose([transforms.ToTensor(), \n",
    "                             transforms.Normalize((0.5, 0.5, 0.5), (0.5, 0.5, 0.5)),\n",
    "                             transforms.Resize((180,180)),\n",
    "                             transforms.Grayscale()\n",
    "                             ])\n",
    "# transform_15=transforms.Compose([transforms.ToTensor(), \n",
    "                                 \n",
    "#                                 transforms.Normalize((0.5, 0.5, 0.5), (0.5, 0.5, 0.5)),\n",
    "#                                  transforms.Resize((180,180)),\n",
    "#                                  transforms.Grayscale()\n",
    "#                                 ])\n",
    "# transform_25=transforms.Compose([transforms.GaussianBlur(3, 25),\n",
    "#                                 transforms.ToTensor(), \n",
    "#                                 transforms.Normalize((0.5, 0.5, 0.5), (0.5, 0.5, 0.5)),\n",
    "#                                  transforms.Resize((180,180)),\n",
    "#                                  transforms.Grayscale()\n",
    "#                                 ])\n",
    "# transform_50=transforms.Compose([transforms.GaussianBlur(3, 50),\n",
    "#                                 transforms.ToTensor(), \n",
    "#                                 transforms.Normalize((0.5, 0.5, 0.5), (0.5, 0.5, 0.5)),\n",
    "#                                  transforms.Resize((180,180)),\n",
    "#                                  transforms.Grayscale()\n",
    "#                                 ])"
   ]
  },
  {
   "cell_type": "code",
   "execution_count": 3,
   "metadata": {},
   "outputs": [
    {
     "data": {
      "text/plain": [
       "'\\n  y is the noisy image and it is used as input\\n\\n  x is the noiseless image and it is used as a target label\\n'"
      ]
     },
     "execution_count": 3,
     "metadata": {},
     "output_type": "execute_result"
    }
   ],
   "source": [
    "  \"\"\"\n",
    "    y is the noisy image and it is used as input\n",
    "\n",
    "    x is the noiseless image and it is used as a target label\n",
    "  \"\"\""
   ]
  },
  {
   "cell_type": "code",
   "execution_count": 4,
   "metadata": {},
   "outputs": [],
   "source": [
    "device=torch.device('cuda:0')\n",
    "def image_Work(root,transform1):\n",
    "  data=[]\n",
    "  #Need to make sure that the data and label are linked to each other right?\n",
    "  #Should be fine if we don't shuffle\n",
    "  count = 0\n",
    "  for img in os.listdir(root):\n",
    "    if (count % 100 == 0):\n",
    "        print(count)\n",
    "    count += 1\n",
    "    loaded = Image.open(os.path.join(root,img))\n",
    "    no_noise = transform1(loaded)\n",
    "    no_noise = no_noise.cpu().detach().numpy()\n",
    "    clean = image.extract_patches_2d(no_noise[0], (40, 40))[:1600,:,:]\n",
    "    data.append(clean)\n",
    "\n",
    "  data = np.reshape(data, (len(data)*data[0].shape[0], 40, 40))\n",
    "  return torch.from_numpy(data)"
   ]
  },
  {
   "cell_type": "code",
   "execution_count": 5,
   "metadata": {},
   "outputs": [
    {
     "name": "stdout",
     "output_type": "stream",
     "text": [
      "0\n",
      "100\n"
     ]
    }
   ],
   "source": [
    "path=\"BSDS300/images/train\"\n",
    "data=image_Work(path,transform_OG)\n",
    "# data25=image_Work(path,transform_OG, 25)\n",
    "# data50=image_Work(path,transform_OG, 50)"
   ]
  },
  {
   "cell_type": "code",
   "execution_count": 6,
   "metadata": {},
   "outputs": [
    {
     "data": {
      "text/plain": [
       "<matplotlib.image.AxesImage at 0x1531df8f71f0>"
      ]
     },
     "execution_count": 6,
     "metadata": {},
     "output_type": "execute_result"
    },
    {
     "data": {
      "image/png": "[encoded data removed]",
      "text/plain": [
       "<Figure size 432x288 with 1 Axes>"
      ]
     },
     "metadata": {
      "needs_background": "light"
     },
     "output_type": "display_data"
    }
   ],
   "source": [
    "plt.figure(1)\n",
    "plt.imshow(data[0].cpu(), cmap='gray')"
   ]
  },
  {
   "cell_type": "code",
   "execution_count": 7,
   "metadata": {},
   "outputs": [],
   "source": [
    "p=open(\"train.pkl\",\"wb\")\n",
    "pickle.dump(data,p)\n",
    "p.close()\n",
    "\n",
    "del data"
   ]
  },
  {
   "cell_type": "code",
   "execution_count": 8,
   "metadata": {},
   "outputs": [
    {
     "name": "stdout",
     "output_type": "stream",
     "text": [
      "0\n"
     ]
    }
   ],
   "source": [
    "path=\"BSDS300/images/test\"\n",
    "test=image_Work(path,transform_OG)"
   ]
  },
  {
   "cell_type": "code",
   "execution_count": 9,
   "metadata": {},
   "outputs": [],
   "source": [
    "t=open(\"test.pkl\",\"wb\")\n",
    "pickle.dump(test,t)\n",
    "t.close()"
   ]
  },
  {
   "cell_type": "code",
   "execution_count": null,
   "metadata": {},
   "outputs": [],
   "source": []
  }
 ],
 "metadata": {
  "kernelspec": {
   "display_name": "Python 3",
   "language": "python",
   "name": "python3"
  },
  "language_info": {
   "codemirror_mode": {
    "name": "ipython",
    "version": 3
   },
   "file_extension": ".py",
   "mimetype": "text/x-python",
   "name": "python",
   "nbconvert_exporter": "python",
   "pygments_lexer": "ipython3",
   "version": "3.8.6"
  }
 },
 "nbformat": 4,
 "nbformat_minor": 4
}
