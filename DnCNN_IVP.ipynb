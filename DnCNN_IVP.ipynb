{
 "cells": [
  {
   "cell_type": "code",
   "execution_count": 1,
   "metadata": {},
   "outputs": [],
   "source": [
    "import torch.nn.functional as f\n",
    "from torch.nn import BatchNorm2d,Conv2d\n",
    "from torch import nn"
   ]
  },
  {
   "cell_type": "code",
   "execution_count": 3,
   "metadata": {},
   "outputs": [],
   "source": [
    "class DnCNN(nn.Module):\n",
    "  def __init__(self,in_channels,out_channels,depth):\n",
    "    super(DnCNN, self).__init__()\n",
    "    #First layer\n",
    "    #convolution, then ReLU\n",
    "    self.c1=Conv2d(in_channels=in_channels,out_channels=64,stride=1,padding=1,kernel_size=3,bias=False)\n",
    "    #For next layers\n",
    "    #Also relu\n",
    "    self.c2=Conv2d(in_channels=64,out_channels=64,stride=1,padding=1,kernel_size=3)\n",
    "    self.b2=BatchNorm2d(64)\n",
    "    #For last layer\n",
    "    self.c3=Conv2d(in_channels=64,out_channels=out_channels,stride=1,padding=1,kernel_size=3)\n",
    "    self.dep = depth\n",
    "\n",
    "  def forward(self,x):\n",
    "    x=self.c1(x)\n",
    "    x=f.relu(x, inplace=True)\n",
    "    for i in range(self.dep-2):\n",
    "      x=self.c2(x)\n",
    "      x=self.b2(x)\n",
    "      x=f.relu(x, inplace=True)\n",
    "    x=self.c3(x)\n",
    "    return x"
   ]
  },
  {
   "cell_type": "code",
   "execution_count": 3,
   "metadata": {},
   "outputs": [],
   "source": [
    "#Set at the start just so there is no issue\n",
    "\"\"\"\n",
    "y is the noisy image and it is used as input\n",
    "\n",
    "x is the noiseless image and it is used as a target label\n",
    "\"\"\"\n",
    "class loss(nn.Module): #N is dataset size\n",
    "  def __init__(self):\n",
    "    super(loss,self).__init__()\n",
    "  def forward(self,out,y,x):\n",
    "    return torch.norm(out-(y-x))/(2*N) #Where does N get defined?"
   ]
  },
  {
   "cell_type": "code",
   "execution_count": 4,
   "metadata": {},
   "outputs": [
    {
     "data": {
      "text/plain": [
       "DnCNN(\n",
       "  (c1): Conv2d(1, 64, kernel_size=(3, 3), stride=(1, 1), padding=(1, 1), bias=False)\n",
       "  (c2): Conv2d(64, 64, kernel_size=(3, 3), stride=(1, 1), padding=(1, 1))\n",
       "  (b2): BatchNorm2d(64, eps=1e-05, momentum=0.1, affine=True, track_running_stats=True)\n",
       "  (c3): Conv2d(64, 1, kernel_size=(3, 3), stride=(1, 1), padding=(1, 1))\n",
       ")"
      ]
     },
     "execution_count": 4,
     "metadata": {},
     "output_type": "execute_result"
    }
   ],
   "source": [
    "model=DnCNN(1,1,10)\n",
    "model.cuda()"
   ]
  },
  {
   "cell_type": "code",
   "execution_count": null,
   "metadata": {},
   "outputs": [],
   "source": [
    "from torch import optim\n",
    "optimizer = optim.SGD(model.parameters(), lr=0.1, momentum=0.9, weight_decay=0.0001)"
   ]
  },
  {
   "cell_type": "code",
   "execution_count": null,
   "metadata": {},
   "outputs": [],
   "source": [
    "#Tensor to data loader\n",
    "def training_function(net, train_loader, optim, loss, epochs=50):\n",
    "  loss_list=[]\n",
    "\n",
    "  net.train()\n",
    "  train_loss = []\n",
    "  for e in range(epochs):\n",
    "    for i, train_img in enumerate(train_loader):\n",
    "      noisy, clean = train_img\n",
    "      print(len(noisy))\n",
    "      noisy = noisy.cuda()\n",
    "      clean = clean.cuda()\n",
    "      optim.zero_grad()\n",
    "\n",
    "      # forward + backward\n",
    "      pred_mask = net(noisy)\n",
    "      loss_val = loss(pred_mask, noisy, clean)\n",
    "      optim.step()\n",
    "      loss_val.backward()\n",
    "\n",
    "      train_loss += [loss_val.item()] * input.shape[0]\n",
    "\n",
    "    print (\"Epoch {}: [{}/{}] Loss: {:.3f}\".format(e, len(train_loader), len(train_loader),np.mean(train_loss)))\n",
    "  \n",
    "  return np.mean(train_loss)"
   ]
  },
  {
   "cell_type": "code",
   "execution_count": null,
   "metadata": {},
   "outputs": [],
   "source": [
    "#Now that model is defined\n",
    "#We can write a new code to take dataloader and run training\n",
    "\n"
   ]
  },
  {
   "cell_type": "code",
   "execution_count": null,
   "metadata": {},
   "outputs": [],
   "source": []
  }
 ],
 "metadata": {
  "kernelspec": {
   "display_name": "Python 3",
   "language": "python",
   "name": "python3"
  },
  "language_info": {
   "codemirror_mode": {
    "name": "ipython",
    "version": 3
   },
   "file_extension": ".py",
   "mimetype": "text/x-python",
   "name": "python",
   "nbconvert_exporter": "python",
   "pygments_lexer": "ipython3",
   "version": "3.8.6"
  }
 },
 "nbformat": 4,
 "nbformat_minor": 4
}
