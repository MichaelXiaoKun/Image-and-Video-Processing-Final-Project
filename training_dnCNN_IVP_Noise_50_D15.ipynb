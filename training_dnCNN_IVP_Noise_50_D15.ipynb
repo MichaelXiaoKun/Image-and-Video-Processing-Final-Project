{
 "cells": [
  {
   "cell_type": "code",
   "execution_count": 1,
   "metadata": {},
   "outputs": [],
   "source": [
    "#The first step is loading our pickel files for dataset"
   ]
  },
  {
   "cell_type": "code",
   "execution_count": 2,
   "metadata": {},
   "outputs": [],
   "source": [
    "import pickle\n",
    "import numpy as np\n",
    "import torch\n",
    "\n",
    "infile = open(\"train.pkl\",'rb')\n",
    "dataset = pickle.load(infile)\n",
    "infile.close()"
   ]
  },
  {
   "cell_type": "code",
   "execution_count": 3,
   "metadata": {},
   "outputs": [],
   "source": [
    "for img_id in range(dataset.shape[0]):\n",
    "    dataset[img_id] = (dataset[img_id] - torch.min(dataset[img_id])) / (torch.max(dataset[img_id]) - torch.min(dataset[img_id]))\n",
    "noisy_dataset = dataset + (50 / 255) * np.random.randn(200*1600,40,40)"
   ]
  },
  {
   "cell_type": "code",
   "execution_count": 4,
   "metadata": {},
   "outputs": [],
   "source": [
    "training_data = []\n",
    "for i, img in enumerate(noisy_dataset):\n",
    "    training_data.append((img[None,:,:], dataset[i,None,:,:]))"
   ]
  },
  {
   "cell_type": "code",
   "execution_count": 5,
   "metadata": {},
   "outputs": [],
   "source": [
    "train_loader = torch.utils.data.DataLoader(training_data,batch_size=128,shuffle=True)"
   ]
  },
  {
   "cell_type": "code",
   "execution_count": 6,
   "metadata": {},
   "outputs": [
    {
     "data": {
      "text/plain": [
       "1"
      ]
     },
     "execution_count": 6,
     "metadata": {},
     "output_type": "execute_result"
    }
   ],
   "source": [
    "len(training_data[0][0])"
   ]
  },
  {
   "cell_type": "code",
   "execution_count": 7,
   "metadata": {},
   "outputs": [
    {
     "name": "stdout",
     "output_type": "stream",
     "text": [
      "tensor([[[[0.3501, 0.4776, 0.4817,  ..., 0.0353, 0.0149, 0.0000],\n",
      "          [0.4612, 0.5514, 0.5543,  ..., 0.0387, 0.0146, 0.0015],\n",
      "          [0.5567, 0.6096, 0.5958,  ..., 0.0278, 0.0124, 0.0031],\n",
      "          ...,\n",
      "          [0.9700, 0.9812, 0.9346,  ..., 0.2790, 0.2889, 0.2987],\n",
      "          [0.9638, 0.9653, 0.8396,  ..., 0.2893, 0.2706, 0.2750],\n",
      "          [0.9553, 0.8942, 0.7262,  ..., 0.2935, 0.2843, 0.2843]]],\n",
      "\n",
      "\n",
      "        [[[0.1950, 0.4472, 0.4457,  ..., 0.3832, 0.3945, 0.4425],\n",
      "          [0.4610, 0.1414, 0.4070,  ..., 0.4513, 0.4489, 0.4969],\n",
      "          [0.5584, 0.3215, 0.3243,  ..., 0.4530, 0.4449, 0.4696],\n",
      "          ...,\n",
      "          [0.3941, 0.3512, 0.3597,  ..., 0.5620, 0.5458, 0.4813],\n",
      "          [0.4811, 0.3752, 0.3527,  ..., 0.5089, 0.5188, 0.5121],\n",
      "          [0.4269, 0.3473, 0.3384,  ..., 0.4596, 0.4455, 0.4643]]],\n",
      "\n",
      "\n",
      "        [[[0.2590, 0.2797, 0.3705,  ..., 0.4744, 0.5197, 0.4926],\n",
      "          [0.4382, 0.3297, 0.2928,  ..., 0.4029, 0.5252, 0.5590],\n",
      "          [0.4833, 0.1692, 0.1807,  ..., 0.3034, 0.6427, 0.7271],\n",
      "          ...,\n",
      "          [0.3147, 0.4172, 0.6009,  ..., 0.6491, 0.5056, 0.7525],\n",
      "          [0.4344, 0.3790, 0.5940,  ..., 0.4693, 0.5900, 0.6670],\n",
      "          [0.5604, 0.5038, 0.5027,  ..., 0.6964, 0.5804, 0.5442]]],\n",
      "\n",
      "\n",
      "        ...,\n",
      "\n",
      "\n",
      "        [[[0.9200, 0.8964, 0.9195,  ..., 0.9043, 0.9158, 0.8804],\n",
      "          [0.9178, 0.9041, 0.8995,  ..., 0.9110, 0.8910, 0.8752],\n",
      "          [0.9168, 0.9083, 0.9282,  ..., 0.9119, 0.9068, 0.8880],\n",
      "          ...,\n",
      "          [0.5007, 0.2928, 0.1385,  ..., 0.5485, 0.5412, 0.5266],\n",
      "          [0.2121, 0.1080, 0.0778,  ..., 0.5015, 0.4834, 0.5009],\n",
      "          [0.0460, 0.0506, 0.0622,  ..., 0.4719, 0.4537, 0.4367]]],\n",
      "\n",
      "\n",
      "        [[[0.5478, 0.5390, 0.5669,  ..., 0.7410, 0.7731, 0.7978],\n",
      "          [0.4990, 0.5014, 0.5640,  ..., 0.7496, 0.7802, 0.7849],\n",
      "          [0.4788, 0.4842, 0.5649,  ..., 0.7286, 0.7269, 0.7495],\n",
      "          ...,\n",
      "          [0.6082, 0.5852, 0.6040,  ..., 0.5554, 0.5845, 0.7547],\n",
      "          [0.5892, 0.5687, 0.5397,  ..., 0.4458, 0.6701, 0.6974],\n",
      "          [0.5622, 0.5090, 0.4783,  ..., 0.4705, 0.6204, 0.7508]]],\n",
      "\n",
      "\n",
      "        [[[0.3096, 0.5398, 0.7924,  ..., 0.8265, 0.8622, 0.8094],\n",
      "          [0.3073, 0.3235, 0.6116,  ..., 0.8272, 0.7984, 0.7519],\n",
      "          [0.1815, 0.6733, 0.5672,  ..., 0.8484, 0.7222, 0.6464],\n",
      "          ...,\n",
      "          [0.5046, 0.4876, 0.3551,  ..., 0.4749, 0.5667, 0.7082],\n",
      "          [0.5412, 0.5562, 0.3096,  ..., 0.4783, 0.6668, 0.5934],\n",
      "          [0.5464, 0.6634, 0.4861,  ..., 0.4507, 0.4226, 0.5231]]]])\n"
     ]
    },
    {
     "data": {
      "image/png": "[encoded data removed]",
      "text/plain": [
       "<Figure size 432x288 with 2 Axes>"
      ]
     },
     "metadata": {
      "needs_background": "light"
     },
     "output_type": "display_data"
    }
   ],
   "source": [
    "#Now that the dataset is prepared and shuffled, we can call the model function\n",
    "import matplotlib.pyplot as plt\n",
    "for noisy, clean in train_loader:\n",
    "    print(clean)\n",
    "    plt.subplot(1,2,1)\n",
    "    plt.imshow(noisy[0,0], cmap='gray')\n",
    "    plt.subplot(1,2,2)\n",
    "    plt.imshow(clean[0,0], cmap='gray')\n",
    "    break"
   ]
  },
  {
   "cell_type": "code",
   "execution_count": 10,
   "metadata": {},
   "outputs": [],
   "source": [
    "import import_ipynb\n"
   ]
  },
  {
   "cell_type": "code",
   "execution_count": 11,
   "metadata": {},
   "outputs": [
    {
     "name": "stdout",
     "output_type": "stream",
     "text": [
      "importing Jupyter notebook from DnCNN_IVP.ipynb\n"
     ]
    }
   ],
   "source": [
    "import DnCNN_IVP"
   ]
  },
  {
   "cell_type": "code",
   "execution_count": 12,
   "metadata": {},
   "outputs": [],
   "source": [
    "#Now that it is imported, let us define a device for GPU cuda\n",
    "device=torch.device('cuda:0')"
   ]
  },
  {
   "cell_type": "code",
   "execution_count": 15,
   "metadata": {},
   "outputs": [],
   "source": [
    "N=128\n",
    "from torch import nn\n",
    "class loss_new(nn.Module): #N is dataset size\n",
    "  def __init__(self):\n",
    "    super(loss_new,self).__init__()\n",
    "  def forward(self,out,y,x):\n",
    "    return torch.norm(out-(y-x))/(2*N) #Where does N get defined?"
   ]
  },
  {
   "cell_type": "code",
   "execution_count": 16,
   "metadata": {},
   "outputs": [],
   "source": [
    "import torch\n",
    "from torch import optim"
   ]
  },
  {
   "cell_type": "code",
   "execution_count": 17,
   "metadata": {},
   "outputs": [],
   "source": [
    "criterion=loss_new()"
   ]
  },
  {
   "cell_type": "code",
   "execution_count": 18,
   "metadata": {},
   "outputs": [
    {
     "name": "stdout",
     "output_type": "stream",
     "text": [
      "Defaulting to user installation because normal site-packages is not writeable\n",
      "Requirement already satisfied: tqdm in /home/kx2090/.local/lib/python3.8/site-packages (4.64.0)\n",
      "\u001b[33mWARNING: You are using pip version 20.2.3; however, version 22.1 is available.\n",
      "You should consider upgrading via the '/share/apps/python/3.8.6/intel/bin/python -m pip install --upgrade pip' command.\u001b[0m\n"
     ]
    }
   ],
   "source": [
    "!pip install tqdm"
   ]
  },
  {
   "cell_type": "code",
   "execution_count": 19,
   "metadata": {},
   "outputs": [],
   "source": [
    "#Need to set a batch size of 128\n",
    "#Tensor to data loader\n",
    "def training_function(net, loader, optim, model_name, epochs=50):\n",
    "  from tqdm import tqdm\n",
    "  loss_list=[]\n",
    "  net.train()\n",
    "  \"\"\"\n",
    "    y is the noisy image and it is used as input\n",
    "\n",
    "    x is the noiseless image and it is used as a target label\n",
    "  \"\"\"\n",
    "    \n",
    "  for e in tqdm(range(epochs)): #For each epoch\n",
    "    train_loss=0\n",
    "    for i, (noisy, clean) in enumerate(loader):\n",
    "      optim.zero_grad()#zero grad so they don't stack\n",
    "      clean = clean.to(device, dtype=torch.float)\n",
    "      noisy = noisy.to(device, dtype=torch.float)\n",
    "      prediction = net(noisy)\n",
    "      batch_loss = criterion(prediction, noisy, clean)\n",
    "      batch_loss.backward()\n",
    "      optim.step()\n",
    "      scheduler.step()\n",
    "      train_loss += batch_loss.item()\n",
    "\n",
    "    train_loss = train_loss/len(loader)\n",
    "    loss_list.append(train_loss)\n",
    "\n",
    "    print (\"Epoch {}: Has a loss of Loss: {:.6f}\".format(e+1 ,train_loss))\n",
    "\n",
    "  torch.save(model.state_dict(), model_name + '_D15.pt')\n",
    "  return loss_list"
   ]
  },
  {
   "cell_type": "code",
   "execution_count": null,
   "metadata": {
    "scrolled": true
   },
   "outputs": [
    {
     "name": "stdout",
     "output_type": "stream",
     "text": [
      "beginning with training 15\n"
     ]
    },
    {
     "name": "stderr",
     "output_type": "stream",
     "text": [
      "  2%|▏         | 1/50 [03:42<3:02:03, 222.92s/it]"
     ]
    },
    {
     "name": "stdout",
     "output_type": "stream",
     "text": [
      "Epoch 1: Has a loss of Loss: 0.498514\n"
     ]
    },
    {
     "name": "stderr",
     "output_type": "stream",
     "text": [
      "\r",
      "  4%|▍         | 2/50 [07:25<2:58:20, 222.93s/it]"
     ]
    },
    {
     "name": "stdout",
     "output_type": "stream",
     "text": [
      "Epoch 2: Has a loss of Loss: 0.449094\n"
     ]
    },
    {
     "name": "stderr",
     "output_type": "stream",
     "text": [
      "\r",
      "  6%|▌         | 3/50 [11:08<2:54:37, 222.92s/it]"
     ]
    },
    {
     "name": "stdout",
     "output_type": "stream",
     "text": [
      "Epoch 3: Has a loss of Loss: 0.449048\n"
     ]
    },
    {
     "name": "stderr",
     "output_type": "stream",
     "text": [
      "\r",
      "  8%|▊         | 4/50 [14:51<2:50:54, 222.93s/it]"
     ]
    },
    {
     "name": "stdout",
     "output_type": "stream",
     "text": [
      "Epoch 4: Has a loss of Loss: 0.449065\n"
     ]
    },
    {
     "name": "stderr",
     "output_type": "stream",
     "text": [
      "\r",
      " 10%|█         | 5/50 [18:34<2:47:11, 222.92s/it]"
     ]
    },
    {
     "name": "stdout",
     "output_type": "stream",
     "text": [
      "Epoch 5: Has a loss of Loss: 0.449076\n"
     ]
    },
    {
     "name": "stderr",
     "output_type": "stream",
     "text": [
      "\r",
      " 12%|█▏        | 6/50 [22:17<2:43:27, 222.91s/it]"
     ]
    },
    {
     "name": "stdout",
     "output_type": "stream",
     "text": [
      "Epoch 6: Has a loss of Loss: 0.449056\n"
     ]
    },
    {
     "name": "stderr",
     "output_type": "stream",
     "text": [
      "\r",
      " 14%|█▍        | 7/50 [26:00<2:39:45, 222.92s/it]"
     ]
    },
    {
     "name": "stdout",
     "output_type": "stream",
     "text": [
      "Epoch 7: Has a loss of Loss: 0.449044\n"
     ]
    },
    {
     "name": "stderr",
     "output_type": "stream",
     "text": [
      "\r",
      " 16%|█▌        | 8/50 [29:43<2:36:02, 222.92s/it]"
     ]
    },
    {
     "name": "stdout",
     "output_type": "stream",
     "text": [
      "Epoch 8: Has a loss of Loss: 0.449063\n"
     ]
    },
    {
     "name": "stderr",
     "output_type": "stream",
     "text": [
      "\r",
      " 18%|█▊        | 9/50 [33:26<2:32:19, 222.92s/it]"
     ]
    },
    {
     "name": "stdout",
     "output_type": "stream",
     "text": [
      "Epoch 9: Has a loss of Loss: 0.449075\n"
     ]
    },
    {
     "name": "stderr",
     "output_type": "stream",
     "text": [
      "\r",
      " 20%|██        | 10/50 [37:09<2:28:36, 222.91s/it]"
     ]
    },
    {
     "name": "stdout",
     "output_type": "stream",
     "text": [
      "Epoch 10: Has a loss of Loss: 0.449088\n"
     ]
    },
    {
     "name": "stderr",
     "output_type": "stream",
     "text": [
      "\r",
      " 22%|██▏       | 11/50 [40:52<2:24:53, 222.91s/it]"
     ]
    },
    {
     "name": "stdout",
     "output_type": "stream",
     "text": [
      "Epoch 11: Has a loss of Loss: 0.449121\n"
     ]
    },
    {
     "name": "stderr",
     "output_type": "stream",
     "text": [
      "\r",
      " 24%|██▍       | 12/50 [44:35<2:21:10, 222.92s/it]"
     ]
    },
    {
     "name": "stdout",
     "output_type": "stream",
     "text": [
      "Epoch 12: Has a loss of Loss: 0.449113\n"
     ]
    },
    {
     "name": "stderr",
     "output_type": "stream",
     "text": [
      "\r",
      " 26%|██▌       | 13/50 [48:18<2:17:29, 222.95s/it]"
     ]
    },
    {
     "name": "stdout",
     "output_type": "stream",
     "text": [
      "Epoch 13: Has a loss of Loss: 0.449080\n"
     ]
    },
    {
     "name": "stderr",
     "output_type": "stream",
     "text": [
      "\r",
      " 28%|██▊       | 14/50 [52:01<2:13:46, 222.95s/it]"
     ]
    },
    {
     "name": "stdout",
     "output_type": "stream",
     "text": [
      "Epoch 14: Has a loss of Loss: 0.449067\n"
     ]
    },
    {
     "name": "stderr",
     "output_type": "stream",
     "text": [
      "\r",
      " 30%|███       | 15/50 [55:43<2:10:02, 222.94s/it]"
     ]
    },
    {
     "name": "stdout",
     "output_type": "stream",
     "text": [
      "Epoch 15: Has a loss of Loss: 0.449087\n"
     ]
    },
    {
     "name": "stderr",
     "output_type": "stream",
     "text": [
      "\r",
      " 32%|███▏      | 16/50 [59:26<2:06:19, 222.93s/it]"
     ]
    },
    {
     "name": "stdout",
     "output_type": "stream",
     "text": [
      "Epoch 16: Has a loss of Loss: 0.449055\n"
     ]
    },
    {
     "name": "stderr",
     "output_type": "stream",
     "text": [
      "\r",
      " 34%|███▍      | 17/50 [1:03:09<2:02:36, 222.93s/it]"
     ]
    },
    {
     "name": "stdout",
     "output_type": "stream",
     "text": [
      "Epoch 17: Has a loss of Loss: 0.449116\n"
     ]
    },
    {
     "name": "stderr",
     "output_type": "stream",
     "text": [
      "\r",
      " 36%|███▌      | 18/50 [1:06:52<1:58:52, 222.90s/it]"
     ]
    },
    {
     "name": "stdout",
     "output_type": "stream",
     "text": [
      "Epoch 18: Has a loss of Loss: 0.449122\n"
     ]
    },
    {
     "name": "stderr",
     "output_type": "stream",
     "text": [
      "\r",
      " 38%|███▊      | 19/50 [1:10:35<1:55:10, 222.91s/it]"
     ]
    },
    {
     "name": "stdout",
     "output_type": "stream",
     "text": [
      "Epoch 19: Has a loss of Loss: 0.449048\n"
     ]
    },
    {
     "name": "stderr",
     "output_type": "stream",
     "text": [
      "\r",
      " 40%|████      | 20/50 [1:14:18<1:51:27, 222.91s/it]"
     ]
    },
    {
     "name": "stdout",
     "output_type": "stream",
     "text": [
      "Epoch 20: Has a loss of Loss: 0.449065\n"
     ]
    },
    {
     "name": "stderr",
     "output_type": "stream",
     "text": [
      "\r",
      " 42%|████▏     | 21/50 [1:18:01<1:47:44, 222.91s/it]"
     ]
    },
    {
     "name": "stdout",
     "output_type": "stream",
     "text": [
      "Epoch 21: Has a loss of Loss: 0.449063\n"
     ]
    },
    {
     "name": "stderr",
     "output_type": "stream",
     "text": [
      "\r",
      " 44%|████▍     | 22/50 [1:21:44<1:44:01, 222.90s/it]"
     ]
    },
    {
     "name": "stdout",
     "output_type": "stream",
     "text": [
      "Epoch 22: Has a loss of Loss: 0.449119\n"
     ]
    },
    {
     "name": "stderr",
     "output_type": "stream",
     "text": [
      "\r",
      " 46%|████▌     | 23/50 [1:25:27<1:40:17, 222.88s/it]"
     ]
    },
    {
     "name": "stdout",
     "output_type": "stream",
     "text": [
      "Epoch 23: Has a loss of Loss: 0.449078\n"
     ]
    },
    {
     "name": "stderr",
     "output_type": "stream",
     "text": [
      "\r",
      " 48%|████▊     | 24/50 [1:29:09<1:36:35, 222.89s/it]"
     ]
    },
    {
     "name": "stdout",
     "output_type": "stream",
     "text": [
      "Epoch 24: Has a loss of Loss: 0.449085\n"
     ]
    },
    {
     "name": "stderr",
     "output_type": "stream",
     "text": [
      "\r",
      " 50%|█████     | 25/50 [1:32:52<1:32:52, 222.90s/it]"
     ]
    },
    {
     "name": "stdout",
     "output_type": "stream",
     "text": [
      "Epoch 25: Has a loss of Loss: 0.449102\n"
     ]
    },
    {
     "name": "stderr",
     "output_type": "stream",
     "text": [
      "\r",
      " 52%|█████▏    | 26/50 [1:36:35<1:29:09, 222.88s/it]"
     ]
    },
    {
     "name": "stdout",
     "output_type": "stream",
     "text": [
      "Epoch 26: Has a loss of Loss: 0.449089\n"
     ]
    },
    {
     "name": "stderr",
     "output_type": "stream",
     "text": [
      "\r",
      " 54%|█████▍    | 27/50 [1:40:18<1:25:26, 222.88s/it]"
     ]
    },
    {
     "name": "stdout",
     "output_type": "stream",
     "text": [
      "Epoch 27: Has a loss of Loss: 0.449103\n"
     ]
    },
    {
     "name": "stderr",
     "output_type": "stream",
     "text": [
      "\r",
      " 56%|█████▌    | 28/50 [1:44:01<1:21:43, 222.88s/it]"
     ]
    },
    {
     "name": "stdout",
     "output_type": "stream",
     "text": [
      "Epoch 28: Has a loss of Loss: 0.449096\n"
     ]
    },
    {
     "name": "stderr",
     "output_type": "stream",
     "text": [
      "\r",
      " 58%|█████▊    | 29/50 [1:47:44<1:18:00, 222.88s/it]"
     ]
    },
    {
     "name": "stdout",
     "output_type": "stream",
     "text": [
      "Epoch 29: Has a loss of Loss: 0.449078\n"
     ]
    },
    {
     "name": "stderr",
     "output_type": "stream",
     "text": [
      "\r",
      " 60%|██████    | 30/50 [1:51:27<1:14:18, 222.91s/it]"
     ]
    },
    {
     "name": "stdout",
     "output_type": "stream",
     "text": [
      "Epoch 30: Has a loss of Loss: 0.449117\n"
     ]
    },
    {
     "name": "stderr",
     "output_type": "stream",
     "text": [
      "\r",
      " 62%|██████▏   | 31/50 [1:55:10<1:10:35, 222.92s/it]"
     ]
    },
    {
     "name": "stdout",
     "output_type": "stream",
     "text": [
      "Epoch 31: Has a loss of Loss: 0.449077\n"
     ]
    },
    {
     "name": "stderr",
     "output_type": "stream",
     "text": [
      "\r",
      " 64%|██████▍   | 32/50 [1:58:53<1:06:52, 222.92s/it]"
     ]
    },
    {
     "name": "stdout",
     "output_type": "stream",
     "text": [
      "Epoch 32: Has a loss of Loss: 0.449072\n"
     ]
    },
    {
     "name": "stderr",
     "output_type": "stream",
     "text": [
      "\r",
      " 66%|██████▌   | 33/50 [2:02:36<1:03:09, 222.92s/it]"
     ]
    },
    {
     "name": "stdout",
     "output_type": "stream",
     "text": [
      "Epoch 33: Has a loss of Loss: 0.449069\n"
     ]
    },
    {
     "name": "stderr",
     "output_type": "stream",
     "text": [
      "\r",
      " 68%|██████▊   | 34/50 [2:06:19<59:26, 222.92s/it]  "
     ]
    },
    {
     "name": "stdout",
     "output_type": "stream",
     "text": [
      "Epoch 34: Has a loss of Loss: 0.449083\n"
     ]
    },
    {
     "name": "stderr",
     "output_type": "stream",
     "text": [
      "\r",
      " 70%|███████   | 35/50 [2:10:01<55:43, 222.91s/it]"
     ]
    },
    {
     "name": "stdout",
     "output_type": "stream",
     "text": [
      "Epoch 35: Has a loss of Loss: 0.449067\n"
     ]
    },
    {
     "name": "stderr",
     "output_type": "stream",
     "text": [
      "\r",
      " 72%|███████▏  | 36/50 [2:13:44<52:00, 222.91s/it]"
     ]
    },
    {
     "name": "stdout",
     "output_type": "stream",
     "text": [
      "Epoch 36: Has a loss of Loss: 0.449051\n"
     ]
    },
    {
     "name": "stderr",
     "output_type": "stream",
     "text": [
      "\r",
      " 74%|███████▍  | 37/50 [2:17:27<48:17, 222.90s/it]"
     ]
    },
    {
     "name": "stdout",
     "output_type": "stream",
     "text": [
      "Epoch 37: Has a loss of Loss: 0.449079\n"
     ]
    },
    {
     "name": "stderr",
     "output_type": "stream",
     "text": [
      "\r",
      " 76%|███████▌  | 38/50 [2:21:10<44:34, 222.90s/it]"
     ]
    },
    {
     "name": "stdout",
     "output_type": "stream",
     "text": [
      "Epoch 38: Has a loss of Loss: 0.449119\n"
     ]
    },
    {
     "name": "stderr",
     "output_type": "stream",
     "text": [
      "\r",
      " 78%|███████▊  | 39/50 [2:24:53<40:51, 222.89s/it]"
     ]
    },
    {
     "name": "stdout",
     "output_type": "stream",
     "text": [
      "Epoch 39: Has a loss of Loss: 0.449116\n"
     ]
    },
    {
     "name": "stderr",
     "output_type": "stream",
     "text": [
      "\r",
      " 80%|████████  | 40/50 [2:28:36<37:08, 222.86s/it]"
     ]
    },
    {
     "name": "stdout",
     "output_type": "stream",
     "text": [
      "Epoch 40: Has a loss of Loss: 0.449073\n"
     ]
    },
    {
     "name": "stderr",
     "output_type": "stream",
     "text": [
      "\r",
      " 82%|████████▏ | 41/50 [2:32:19<33:25, 222.88s/it]"
     ]
    },
    {
     "name": "stdout",
     "output_type": "stream",
     "text": [
      "Epoch 41: Has a loss of Loss: 0.449062\n"
     ]
    },
    {
     "name": "stderr",
     "output_type": "stream",
     "text": [
      "\r",
      " 84%|████████▍ | 42/50 [2:36:02<29:43, 222.90s/it]"
     ]
    },
    {
     "name": "stdout",
     "output_type": "stream",
     "text": [
      "Epoch 42: Has a loss of Loss: 0.449090\n"
     ]
    }
   ],
   "source": [
    "from torch.optim.lr_scheduler import StepLR\n",
    "model=DnCNN_IVP.DnCNN(1,1,15)\n",
    "device=torch.device('cuda:0')\n",
    "model.to(device)\n",
    "epoch = 50\n",
    "\n",
    "optimizer = optim.SGD(model.parameters(), lr=0.1, momentum=0.9, weight_decay=0.0001)\n",
    "scheduler = StepLR(optimizer, step_size=1, gamma=0.001**(1/50))\n",
    "print('beginning with training 15')\n",
    "\n",
    "plot_me_50_D15=training_function(model, train_loader, optimizer, 'dncnn_noise_50', 50)"
   ]
  },
  {
   "cell_type": "code",
   "execution_count": null,
   "metadata": {},
   "outputs": [],
   "source": [
    "with open('training_loss_noise_50_D15.txt', 'w') as f:\n",
    "    f.writelines([str(loss) + '\\n' for loss in plot_me_50_D15])"
   ]
  }
 ],
 "metadata": {
  "kernelspec": {
   "display_name": "Python 3",
   "language": "python",
   "name": "python3"
  },
  "language_info": {
   "codemirror_mode": {
    "name": "ipython",
    "version": 3
   },
   "file_extension": ".py",
   "mimetype": "text/x-python",
   "name": "python",
   "nbconvert_exporter": "python",
   "pygments_lexer": "ipython3",
   "version": "3.8.6"
  }
 },
 "nbformat": 4,
 "nbformat_minor": 4
}
